{
 "cells": [
  {
   "cell_type": "code",
   "execution_count": 1,
   "metadata": {
    "collapsed": true
   },
   "outputs": [
    {
     "name": "stderr",
     "output_type": "stream",
     "text": [
      "C:\\Users\\Vadim\\anaconda3\\envs\\coda\\lib\\site-packages\\h5py\\__init__.py:36: FutureWarning: Conversion of the second argument of issubdtype from `float` to `np.floating` is deprecated. In future, it will be treated as `np.float64 == np.dtype(float).type`.\n  from ._conv import register_converters as _register_converters\n"
     ]
    },
    {
     "name": "stderr",
     "output_type": "stream",
     "text": [
      "Using TensorFlow backend.\n"
     ]
    }
   ],
   "source": [
    "import os\n",
    "import copy\n",
    "import tempfile\n",
    "import json\n",
    "from subprocess import call\n",
    "import wandb\n",
    "from diConstants import (HG19_ALL_CHROMS, MM9_ALL_CHROMS,\n",
    "    HG19_TRAIN_CHROMS, MM9_TRAIN_CHROMS,\n",
    "    VALID_CHROMS, TEST_CHROMS) \n",
    "from model_preset_params import MODEL_PRESET_PARAMS\n",
    "\n",
    "import models\n",
    "import modelTemplates\n"
   ]
  },
  {
   "cell_type": "code",
   "execution_count": 5,
   "metadata": {},
   "outputs": [],
   "source": [
    "def run_model(model_params):\n",
    "    m = models.SeqModel.instantiate_model(model_params)\n",
    "    m.compile_and_train_model()\n",
    "    results = m.evaluate_model()\n",
    "    return results\n",
    "\n",
    "GM_MARKS = ['H3K27AC', 'H3K4ME1', 'H3K4ME3', 'H3K27ME3', 'H3K36ME3']\n",
    "# GM_MARKS = ['H3K27AC']\n",
    "\n",
    "\n",
    "def test_GM18526():\n",
    "\n",
    "    for test_cell_line in ['GM18526']:\n",
    "        for subsample_target_string in ['0.5e6']:\n",
    "            for predict_binary_output in [True, False]:\n",
    "                for output_mark in GM_MARKS:                            \n",
    "                    model_type = 'atac'\n",
    "                    wandb_log = True\n",
    "                    preset_params = MODEL_PRESET_PARAMS[model_type]\n",
    "                    loss = preset_params['compile_params']['class_loss'] \\\n",
    "                           if predict_binary_output \\\n",
    "                           else preset_params['compile_params']['regression_loss']\n",
    "\n",
    "                    model_params = modelTemplates.make_model_params(\n",
    "                        model_library=preset_params['model_library'],\n",
    "                        model_class=preset_params['model_class'],\n",
    "                        model_type=preset_params['model_type'],\n",
    "                        model_specific_params=preset_params['model_specific_params'],\n",
    "                        compile_params={\n",
    "                            'loss': loss,\n",
    "                            'optimizer': preset_params['compile_params']['optimizer']\n",
    "                        },\n",
    "                        dataset_params={\n",
    "                            'train_dataset_name': 'GM12878_5+1marks-K4me3_all',\n",
    "                            'test_dataset_name': '%s_5+1marks-K4me3_all' % test_cell_line,\n",
    "                            'num_train_examples': 1000,\n",
    "                            'seq_length': 1001,\n",
    "                            'peak_fraction': 0.5,\n",
    "                            'train_X_subsample_target_string': subsample_target_string,\n",
    "                            'num_bins_to_test': None,\n",
    "                            'train_chroms': HG19_ALL_CHROMS,\n",
    "                            'test_chroms': HG19_ALL_CHROMS,\n",
    "                            'only_chr1': True\n",
    "                        },\n",
    "                        output_marks=[output_mark],\n",
    "                        train_params={\n",
    "                            'nb_epoch': 25,\n",
    "                            'batch_size': 64,\n",
    "                            'validation_split': 0.2,\n",
    "                            'wandb_log': wandb_log\n",
    "                        },\n",
    "                        predict_binary_output=predict_binary_output,\n",
    "                        zero_out_non_bins=True,\n",
    "                        generate_bigWig=False)\n",
    "\n",
    "                    if wandb_log:\n",
    "                        group = \"peaks\" if predict_binary_output else \"signal\"\n",
    "                        name = model_type + \"_\" + output_mark\n",
    "                        # Initilize a new wandb run\n",
    "                        wandb.init(entity=\"vadim-farutin\", project=\"coda\", name=name,\n",
    "                                   reinit=True,\n",
    "                                   config=model_params, group=group, tags=[output_mark, model_type])\n",
    "                        # wandb.watch_called = False # Re-run the model without restarting the runtime, unnecessary after our next release\n",
    "\n",
    "                    results = run_model(model_params)\n",
    "\n",
    "                    if wandb_log:\n",
    "                        if predict_binary_output:\n",
    "                            wandb.run.summary['train_samples_dn_AUC']              = results['train_samples']['dn']['AUC']\n",
    "                            wandb.run.summary['train_samples_dn_AUPRC']            = results['train_samples']['dn']['AUPRC']\n",
    "                            wandb.run.summary['train_samples_dn_Y_pos_frac']       = results['train_samples']['dn']['Y_pos_frac']\n",
    "                            wandb.run.summary['train_samples_dn_precision_curves'] = results['train_samples']['dn']['precision_curves']\n",
    "                            wandb.run.summary['train_samples_dn_recall_curves']    = results['train_samples']['dn']['recall_curves']\n",
    "\n",
    "                            wandb.run.summary['test_samples_dn_AUC']              = results['test_results'][0]['samples']['dn']['AUC']\n",
    "                            wandb.run.summary['test_samples_dn_AUPRC']            = results['test_results'][0]['samples']['dn']['AUPRC']\n",
    "                            wandb.run.summary['test_samples_dn_Y_pos_frac']       = results['test_results'][0]['samples']['dn']['Y_pos_frac']\n",
    "                            wandb.run.summary['test_samples_dn_precision_curves'] = results['test_results'][0]['samples']['dn']['precision_curves']\n",
    "                            wandb.run.summary['test_samples_dn_recall_curves']    = results['test_results'][0]['samples']['dn']['recall_curves']\n",
    "\n",
    "                            wandb.run.summary['test_genome_dn_AUC']              = results['test_results'][0]['genome']['dn_all']['chr1']['AUC']\n",
    "                            wandb.run.summary['test_genome_dn_AUPRC']            = results['test_results'][0]['genome']['dn_all']['chr1']['AUPRC']\n",
    "                            wandb.run.summary['test_genome_dn_Y_pos_frac']       = results['test_results'][0]['genome']['dn_all']['chr1']['Y_pos_frac']\n",
    "                            wandb.run.summary['test_genome_dn_precision_curves'] = results['test_results'][0]['genome']['dn_all']['chr1']['precision_curves']\n",
    "                            wandb.run.summary['test_genome_dn_recall_curves']    = results['test_results'][0]['genome']['dn_all']['chr1']['recall_curves']\n",
    "\n",
    "                        else:\n",
    "                            wandb.run.summary['train_samples_dn_MSE']      = results['train_samples']['dn']['MSE']\n",
    "                            wandb.run.summary['train_samples_dn_true_var'] = results['train_samples']['dn']['true_var']\n",
    "                            wandb.run.summary['train_samples_dn_pearsonR'] = results['train_samples']['dn']['pearsonR']\n",
    "\n",
    "                            wandb.run.summary['test_samples_dn_MSE']      = results['test_results'][0]['samples']['dn']['MSE']\n",
    "                            wandb.run.summary['test_samples_dn_true_var'] = results['test_results'][0]['samples']['dn']['true_var']\n",
    "                            wandb.run.summary['test_samples_dn_pearsonR'] = results['test_results'][0]['samples']['dn']['pearsonR']\n",
    "\n",
    "                            wandb.run.summary['test_genome_dn_all_MSE']      = results['test_results'][0]['genome']['dn_all']['chr1']['MSE']\n",
    "                            wandb.run.summary['test_genome_dn_all_true_var'] = results['test_results'][0]['genome']['dn_all']['chr1']['true_var']\n",
    "                            wandb.run.summary['test_genome_dn_all_pearsonR'] = results['test_results'][0]['genome']['dn_all']['chr1']['pearsonR']\n",
    "\n",
    "                            wandb.run.summary['test_genome_dn_peaks_MSE']      = results['test_results'][0]['genome']['dn_peaks']['chr1']['MSE']\n",
    "                            wandb.run.summary['test_genome_dn_peaks_true_var'] = results['test_results'][0]['genome']['dn_peaks']['chr1']['true_var']\n",
    "                            wandb.run.summary['test_genome_dn_peaks_pearsonR'] = results['test_results'][0]['genome']['dn_peaks']['chr1']['pearsonR']\n",
    "\n",
    "                        wandb.join()\n",
    "                        # wandb.uninit()\n"
   ]
  },
  {
   "cell_type": "code",
   "execution_count": 6,
   "metadata": {},
   "outputs": [],
   "source": [
    "%%capture\n",
    "test_GM18526()"
   ]
  },
  {
   "cell_type": "code",
   "execution_count": null,
   "metadata": {},
   "outputs": [],
   "source": []
  }
 ],
 "metadata": {
  "kernelspec": {
   "display_name": "Python 2",
   "language": "python",
   "name": "python2"
  },
  "language_info": {
   "codemirror_mode": {
    "name": "ipython",
    "version": 2
   },
   "file_extension": ".py",
   "mimetype": "text/x-python",
   "name": "python",
   "nbconvert_exporter": "python",
   "pygments_lexer": "ipython2",
   "version": "2.7.6"
  }
 },
 "nbformat": 4,
 "nbformat_minor": 0
}
